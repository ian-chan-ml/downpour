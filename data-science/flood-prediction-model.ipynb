{
 "cells": [
  {
   "cell_type": "markdown",
   "id": "ef4a5f0b",
   "metadata": {},
   "source": [
    "## FLOOD PREDICTION: MACHINE LEARNING ALGORITHM DEVELOPMENT"
   ]
  },
  {
   "cell_type": "markdown",
   "id": "a8a23151",
   "metadata": {},
   "source": [
    "### A) Data Acquisition"
   ]
  },
  {
   "cell_type": "code",
   "execution_count": 1,
   "id": "8cc17069",
   "metadata": {},
   "outputs": [],
   "source": [
    "import pandas as pd\n",
    "flood=pd.read_csv(r\"C:\\Users\\sharu\\OneDrive\\Desktop\\Downpour FD\\Downpour EDA Dataset.csv\")"
   ]
  },
  {
   "cell_type": "code",
   "execution_count": 2,
   "id": "39265a68",
   "metadata": {
    "scrolled": true
   },
   "outputs": [
    {
     "data": {
      "text/html": [
       "<div>\n",
       "<style scoped>\n",
       "    .dataframe tbody tr th:only-of-type {\n",
       "        vertical-align: middle;\n",
       "    }\n",
       "\n",
       "    .dataframe tbody tr th {\n",
       "        vertical-align: top;\n",
       "    }\n",
       "\n",
       "    .dataframe thead th {\n",
       "        text-align: right;\n",
       "    }\n",
       "</style>\n",
       "<table border=\"1\" class=\"dataframe\">\n",
       "  <thead>\n",
       "    <tr style=\"text-align: right;\">\n",
       "      <th></th>\n",
       "      <th>DISTRICT</th>\n",
       "      <th>DATE (DD/MM/YY)</th>\n",
       "      <th>TIME (HH:MM)</th>\n",
       "      <th>CAUSE</th>\n",
       "      <th>TEMPERATURE(°C)</th>\n",
       "      <th>HUMIDITY (%)</th>\n",
       "      <th>FLOOD OCCURRENCE</th>\n",
       "    </tr>\n",
       "  </thead>\n",
       "  <tbody>\n",
       "    <tr>\n",
       "      <th>0</th>\n",
       "      <td>Kuala Selangor</td>\n",
       "      <td>31/12/2018</td>\n",
       "      <td>23:20</td>\n",
       "      <td>Continuous Rain</td>\n",
       "      <td>24.0</td>\n",
       "      <td>83.0</td>\n",
       "      <td>1</td>\n",
       "    </tr>\n",
       "    <tr>\n",
       "      <th>1</th>\n",
       "      <td>Kuala Selangor</td>\n",
       "      <td>6/8/2020</td>\n",
       "      <td>18:47</td>\n",
       "      <td>Poor Drainage System</td>\n",
       "      <td>31.0</td>\n",
       "      <td>69.0</td>\n",
       "      <td>0</td>\n",
       "    </tr>\n",
       "    <tr>\n",
       "      <th>2</th>\n",
       "      <td>Petaling Jaya</td>\n",
       "      <td>4/11/2018</td>\n",
       "      <td>21:35</td>\n",
       "      <td>Continuous Rain</td>\n",
       "      <td>24.0</td>\n",
       "      <td>84.0</td>\n",
       "      <td>1</td>\n",
       "    </tr>\n",
       "    <tr>\n",
       "      <th>3</th>\n",
       "      <td>Gombak</td>\n",
       "      <td>22/9/2018</td>\n",
       "      <td>22:35</td>\n",
       "      <td>Dam Breakage</td>\n",
       "      <td>31.0</td>\n",
       "      <td>67.0</td>\n",
       "      <td>0</td>\n",
       "    </tr>\n",
       "    <tr>\n",
       "      <th>4</th>\n",
       "      <td>Hulu Selangor</td>\n",
       "      <td>4/12/2021</td>\n",
       "      <td>10:45</td>\n",
       "      <td>Continuous Rain</td>\n",
       "      <td>23.0</td>\n",
       "      <td>86.0</td>\n",
       "      <td>1</td>\n",
       "    </tr>\n",
       "  </tbody>\n",
       "</table>\n",
       "</div>"
      ],
      "text/plain": [
       "         DISTRICT DATE (DD/MM/YY) TIME (HH:MM)                  CAUSE  \\\n",
       "0  Kuala Selangor      31/12/2018        23:20        Continuous Rain   \n",
       "1  Kuala Selangor        6/8/2020        18:47  Poor Drainage System    \n",
       "2  Petaling Jaya        4/11/2018        21:35        Continuous Rain   \n",
       "3         Gombak        22/9/2018        22:35           Dam Breakage   \n",
       "4   Hulu Selangor       4/12/2021        10:45        Continuous Rain   \n",
       "\n",
       "   TEMPERATURE(°C)  HUMIDITY (%)  FLOOD OCCURRENCE  \n",
       "0             24.0          83.0                 1  \n",
       "1             31.0          69.0                 0  \n",
       "2             24.0          84.0                 1  \n",
       "3             31.0          67.0                 0  \n",
       "4             23.0          86.0                 1  "
      ]
     },
     "execution_count": 2,
     "metadata": {},
     "output_type": "execute_result"
    }
   ],
   "source": [
    "flood.head()"
   ]
  },
  {
   "cell_type": "code",
   "execution_count": 3,
   "id": "013bdbad",
   "metadata": {
    "scrolled": true
   },
   "outputs": [
    {
     "name": "stdout",
     "output_type": "stream",
     "text": [
      "<class 'pandas.core.frame.DataFrame'>\n",
      "RangeIndex: 199 entries, 0 to 198\n",
      "Data columns (total 7 columns):\n",
      " #   Column            Non-Null Count  Dtype  \n",
      "---  ------            --------------  -----  \n",
      " 0   DISTRICT          199 non-null    object \n",
      " 1   DATE (DD/MM/YY)   196 non-null    object \n",
      " 2   TIME (HH:MM)      198 non-null    object \n",
      " 3   CAUSE             199 non-null    object \n",
      " 4   TEMPERATURE(°C)   192 non-null    float64\n",
      " 5   HUMIDITY (%)      196 non-null    float64\n",
      " 6   FLOOD OCCURRENCE  199 non-null    int64  \n",
      "dtypes: float64(2), int64(1), object(4)\n",
      "memory usage: 11.0+ KB\n"
     ]
    }
   ],
   "source": [
    "flood.info()"
   ]
  },
  {
   "cell_type": "markdown",
   "id": "0d5e58fa",
   "metadata": {},
   "source": [
    "### B) Data Preparation"
   ]
  },
  {
   "cell_type": "code",
   "execution_count": 4,
   "id": "2683a761",
   "metadata": {
    "scrolled": true
   },
   "outputs": [
    {
     "data": {
      "text/plain": [
       "DISTRICT            0\n",
       "DATE (DD/MM/YY)     3\n",
       "TIME (HH:MM)        1\n",
       "CAUSE               0\n",
       "TEMPERATURE(°C)     7\n",
       "HUMIDITY (%)        3\n",
       "FLOOD OCCURRENCE    0\n",
       "dtype: int64"
      ]
     },
     "execution_count": 4,
     "metadata": {},
     "output_type": "execute_result"
    }
   ],
   "source": [
    "#missing data \n",
    "flood.isnull().sum()"
   ]
  },
  {
   "cell_type": "code",
   "execution_count": 5,
   "id": "d585a9e4",
   "metadata": {},
   "outputs": [],
   "source": [
    "flood['HUMIDITY (%)'] = flood['HUMIDITY (%)'].fillna(flood['HUMIDITY (%)'].median())\n",
    "flood['TEMPERATURE(°C)'] = flood['TEMPERATURE(°C)'].fillna(flood['TEMPERATURE(°C)'].median())"
   ]
  },
  {
   "cell_type": "code",
   "execution_count": 6,
   "id": "442ea02b",
   "metadata": {},
   "outputs": [],
   "source": [
    "flood.dropna(inplace=True)"
   ]
  },
  {
   "cell_type": "code",
   "execution_count": 7,
   "id": "442f7fe4",
   "metadata": {},
   "outputs": [
    {
     "name": "stdout",
     "output_type": "stream",
     "text": [
      "Duplicate Rows not available\n"
     ]
    }
   ],
   "source": [
    "#duplicated rows \n",
    "data_duplication = flood.duplicated().sum()\n",
    "if data_duplication:\n",
    "    print('Number of Duplicated Rows : {}'.format(data_duplication))\n",
    "else:\n",
    "    print('Duplicate Rows not available')"
   ]
  },
  {
   "cell_type": "code",
   "execution_count": 8,
   "id": "46677433",
   "metadata": {},
   "outputs": [],
   "source": [
    "#data transformation\n",
    "flood['DATE (DD/MM/YY)'] = pd.to_datetime(flood['DATE (DD/MM/YY)'], infer_datetime_format=True, errors='ignore')"
   ]
  },
  {
   "cell_type": "code",
   "execution_count": 9,
   "id": "7dd15d1b",
   "metadata": {},
   "outputs": [],
   "source": [
    "flood['YEAR'] = flood['DATE (DD/MM/YY)'].dt.year\n",
    "flood['MONTH'] = flood['DATE (DD/MM/YY)'].dt.month"
   ]
  },
  {
   "cell_type": "code",
   "execution_count": 10,
   "id": "983cd3a4",
   "metadata": {
    "scrolled": true
   },
   "outputs": [
    {
     "data": {
      "text/html": [
       "<div>\n",
       "<style scoped>\n",
       "    .dataframe tbody tr th:only-of-type {\n",
       "        vertical-align: middle;\n",
       "    }\n",
       "\n",
       "    .dataframe tbody tr th {\n",
       "        vertical-align: top;\n",
       "    }\n",
       "\n",
       "    .dataframe thead th {\n",
       "        text-align: right;\n",
       "    }\n",
       "</style>\n",
       "<table border=\"1\" class=\"dataframe\">\n",
       "  <thead>\n",
       "    <tr style=\"text-align: right;\">\n",
       "      <th></th>\n",
       "      <th>TEMPERATURE(°C)</th>\n",
       "      <th>HUMIDITY (%)</th>\n",
       "      <th>FLOOD OCCURRENCE</th>\n",
       "      <th>YEAR</th>\n",
       "      <th>MONTH</th>\n",
       "    </tr>\n",
       "  </thead>\n",
       "  <tbody>\n",
       "    <tr>\n",
       "      <th>count</th>\n",
       "      <td>195.000000</td>\n",
       "      <td>195.000000</td>\n",
       "      <td>195.000000</td>\n",
       "      <td>195.000000</td>\n",
       "      <td>195.000000</td>\n",
       "    </tr>\n",
       "    <tr>\n",
       "      <th>mean</th>\n",
       "      <td>27.600000</td>\n",
       "      <td>77.153846</td>\n",
       "      <td>0.538462</td>\n",
       "      <td>2019.492308</td>\n",
       "      <td>7.410256</td>\n",
       "    </tr>\n",
       "    <tr>\n",
       "      <th>std</th>\n",
       "      <td>3.045023</td>\n",
       "      <td>8.441242</td>\n",
       "      <td>0.499802</td>\n",
       "      <td>1.433650</td>\n",
       "      <td>3.745223</td>\n",
       "    </tr>\n",
       "    <tr>\n",
       "      <th>min</th>\n",
       "      <td>23.000000</td>\n",
       "      <td>65.000000</td>\n",
       "      <td>0.000000</td>\n",
       "      <td>2017.000000</td>\n",
       "      <td>1.000000</td>\n",
       "    </tr>\n",
       "    <tr>\n",
       "      <th>25%</th>\n",
       "      <td>25.000000</td>\n",
       "      <td>69.500000</td>\n",
       "      <td>0.000000</td>\n",
       "      <td>2018.000000</td>\n",
       "      <td>5.000000</td>\n",
       "    </tr>\n",
       "    <tr>\n",
       "      <th>50%</th>\n",
       "      <td>27.000000</td>\n",
       "      <td>79.000000</td>\n",
       "      <td>1.000000</td>\n",
       "      <td>2020.000000</td>\n",
       "      <td>8.000000</td>\n",
       "    </tr>\n",
       "    <tr>\n",
       "      <th>75%</th>\n",
       "      <td>30.000000</td>\n",
       "      <td>85.000000</td>\n",
       "      <td>1.000000</td>\n",
       "      <td>2021.000000</td>\n",
       "      <td>11.000000</td>\n",
       "    </tr>\n",
       "    <tr>\n",
       "      <th>max</th>\n",
       "      <td>33.000000</td>\n",
       "      <td>90.000000</td>\n",
       "      <td>1.000000</td>\n",
       "      <td>2022.000000</td>\n",
       "      <td>12.000000</td>\n",
       "    </tr>\n",
       "  </tbody>\n",
       "</table>\n",
       "</div>"
      ],
      "text/plain": [
       "       TEMPERATURE(°C)  HUMIDITY (%)  FLOOD OCCURRENCE         YEAR  \\\n",
       "count       195.000000    195.000000        195.000000   195.000000   \n",
       "mean         27.600000     77.153846          0.538462  2019.492308   \n",
       "std           3.045023      8.441242          0.499802     1.433650   \n",
       "min          23.000000     65.000000          0.000000  2017.000000   \n",
       "25%          25.000000     69.500000          0.000000  2018.000000   \n",
       "50%          27.000000     79.000000          1.000000  2020.000000   \n",
       "75%          30.000000     85.000000          1.000000  2021.000000   \n",
       "max          33.000000     90.000000          1.000000  2022.000000   \n",
       "\n",
       "            MONTH  \n",
       "count  195.000000  \n",
       "mean     7.410256  \n",
       "std      3.745223  \n",
       "min      1.000000  \n",
       "25%      5.000000  \n",
       "50%      8.000000  \n",
       "75%     11.000000  \n",
       "max     12.000000  "
      ]
     },
     "execution_count": 10,
     "metadata": {},
     "output_type": "execute_result"
    }
   ],
   "source": [
    "flood.describe()"
   ]
  },
  {
   "cell_type": "code",
   "execution_count": 11,
   "id": "fec2036d",
   "metadata": {},
   "outputs": [],
   "source": [
    "#data reduction\n",
    "flood.drop(['DATE (DD/MM/YY)', 'TIME (HH:MM)'], axis=1, inplace=True)\n",
    "flood.dropna(inplace=True)"
   ]
  },
  {
   "cell_type": "code",
   "execution_count": 12,
   "id": "2fe6ab98",
   "metadata": {},
   "outputs": [
    {
     "data": {
      "text/plain": [
       "Index(['DISTRICT', 'CAUSE'], dtype='object')"
      ]
     },
     "execution_count": 12,
     "metadata": {},
     "output_type": "execute_result"
    }
   ],
   "source": [
    "#feature encoding \n",
    "import numpy as np\n",
    "flood_column_cat = flood.select_dtypes(exclude=[np.number]).columns\n",
    "flood_column_cat"
   ]
  },
  {
   "cell_type": "code",
   "execution_count": 13,
   "id": "fac9916b",
   "metadata": {},
   "outputs": [
    {
     "name": "stdout",
     "output_type": "stream",
     "text": [
      "Flood Label Encoded Data: \n"
     ]
    },
    {
     "data": {
      "text/html": [
       "<div>\n",
       "<style scoped>\n",
       "    .dataframe tbody tr th:only-of-type {\n",
       "        vertical-align: middle;\n",
       "    }\n",
       "\n",
       "    .dataframe tbody tr th {\n",
       "        vertical-align: top;\n",
       "    }\n",
       "\n",
       "    .dataframe thead th {\n",
       "        text-align: right;\n",
       "    }\n",
       "</style>\n",
       "<table border=\"1\" class=\"dataframe\">\n",
       "  <thead>\n",
       "    <tr style=\"text-align: right;\">\n",
       "      <th></th>\n",
       "      <th>DISTRICT</th>\n",
       "      <th>CAUSE</th>\n",
       "      <th>TEMPERATURE(°C)</th>\n",
       "      <th>HUMIDITY (%)</th>\n",
       "      <th>FLOOD OCCURRENCE</th>\n",
       "      <th>YEAR</th>\n",
       "      <th>MONTH</th>\n",
       "    </tr>\n",
       "  </thead>\n",
       "  <tbody>\n",
       "    <tr>\n",
       "      <th>0</th>\n",
       "      <td>5</td>\n",
       "      <td>0</td>\n",
       "      <td>24.0</td>\n",
       "      <td>83.0</td>\n",
       "      <td>1</td>\n",
       "      <td>2018</td>\n",
       "      <td>12</td>\n",
       "    </tr>\n",
       "    <tr>\n",
       "      <th>1</th>\n",
       "      <td>5</td>\n",
       "      <td>2</td>\n",
       "      <td>31.0</td>\n",
       "      <td>69.0</td>\n",
       "      <td>0</td>\n",
       "      <td>2020</td>\n",
       "      <td>8</td>\n",
       "    </tr>\n",
       "    <tr>\n",
       "      <th>2</th>\n",
       "      <td>6</td>\n",
       "      <td>0</td>\n",
       "      <td>24.0</td>\n",
       "      <td>84.0</td>\n",
       "      <td>1</td>\n",
       "      <td>2018</td>\n",
       "      <td>11</td>\n",
       "    </tr>\n",
       "    <tr>\n",
       "      <th>3</th>\n",
       "      <td>0</td>\n",
       "      <td>1</td>\n",
       "      <td>31.0</td>\n",
       "      <td>67.0</td>\n",
       "      <td>0</td>\n",
       "      <td>2018</td>\n",
       "      <td>9</td>\n",
       "    </tr>\n",
       "    <tr>\n",
       "      <th>4</th>\n",
       "      <td>2</td>\n",
       "      <td>0</td>\n",
       "      <td>23.0</td>\n",
       "      <td>86.0</td>\n",
       "      <td>1</td>\n",
       "      <td>2021</td>\n",
       "      <td>12</td>\n",
       "    </tr>\n",
       "  </tbody>\n",
       "</table>\n",
       "</div>"
      ],
      "text/plain": [
       "   DISTRICT  CAUSE  TEMPERATURE(°C)  HUMIDITY (%)  FLOOD OCCURRENCE  YEAR  \\\n",
       "0         5      0             24.0          83.0                 1  2018   \n",
       "1         5      2             31.0          69.0                 0  2020   \n",
       "2         6      0             24.0          84.0                 1  2018   \n",
       "3         0      1             31.0          67.0                 0  2018   \n",
       "4         2      0             23.0          86.0                 1  2021   \n",
       "\n",
       "   MONTH  \n",
       "0     12  \n",
       "1      8  \n",
       "2     11  \n",
       "3      9  \n",
       "4     12  "
      ]
     },
     "execution_count": 13,
     "metadata": {},
     "output_type": "execute_result"
    }
   ],
   "source": [
    "from sklearn.preprocessing import LabelEncoder\n",
    "flood_label_encoder = LabelEncoder()\n",
    "for i in flood_column_cat:\n",
    "    flood[i] = flood_label_encoder.fit_transform(flood[i])\n",
    "print(\"Flood Label Encoded Data: \")\n",
    "flood.head()"
   ]
  },
  {
   "cell_type": "code",
   "execution_count": 14,
   "id": "a3c2dd1f",
   "metadata": {},
   "outputs": [
    {
     "name": "stdout",
     "output_type": "stream",
     "text": [
      "<class 'pandas.core.frame.DataFrame'>\n",
      "Int64Index: 195 entries, 0 to 198\n",
      "Data columns (total 7 columns):\n",
      " #   Column            Non-Null Count  Dtype  \n",
      "---  ------            --------------  -----  \n",
      " 0   DISTRICT          195 non-null    int32  \n",
      " 1   CAUSE             195 non-null    int32  \n",
      " 2   TEMPERATURE(°C)   195 non-null    float64\n",
      " 3   HUMIDITY (%)      195 non-null    float64\n",
      " 4   FLOOD OCCURRENCE  195 non-null    int64  \n",
      " 5   YEAR              195 non-null    int64  \n",
      " 6   MONTH             195 non-null    int64  \n",
      "dtypes: float64(2), int32(2), int64(3)\n",
      "memory usage: 10.7 KB\n"
     ]
    }
   ],
   "source": [
    "flood.info()"
   ]
  },
  {
   "cell_type": "code",
   "execution_count": 15,
   "id": "0704802d",
   "metadata": {},
   "outputs": [
    {
     "name": "stdout",
     "output_type": "stream",
     "text": [
      "[[0.625      0.         0.1        ... 1.         0.2        1.        ]\n",
      " [0.625      0.5        0.8        ... 0.         0.6        0.63636364]\n",
      " [0.75       0.         0.1        ... 1.         0.2        0.90909091]\n",
      " ...\n",
      " [0.625      0.5        0.8        ... 0.         1.         0.54545455]\n",
      " [0.25       0.         0.5        ... 0.         0.8        0.45454545]\n",
      " [0.625      0.         0.         ... 1.         0.8        0.72727273]]\n"
     ]
    }
   ],
   "source": [
    "#data normalization \n",
    "from sklearn.preprocessing import MinMaxScaler\n",
    "scaler = MinMaxScaler()\n",
    "scaled = scaler.fit_transform(flood)\n",
    "print(scaled)"
   ]
  },
  {
   "cell_type": "code",
   "execution_count": 16,
   "id": "c3167bde",
   "metadata": {},
   "outputs": [
    {
     "data": {
      "image/png": "[encoded data removed]",
      "text/plain": [
       "<Figure size 1080x1080 with 2 Axes>"
      ]
     },
     "metadata": {
      "needs_background": "light"
     },
     "output_type": "display_data"
    }
   ],
   "source": [
    "#correlation matrix \n",
    "import seaborn as sns\n",
    "import matplotlib.pyplot as plt\n",
    "corr_matrix = flood.corr()\n",
    "plt.figure(figsize=(15, 15))\n",
    "plt.title(\"Flood Dataset Correlation Graph\")\n",
    "cmap = sns.diverging_palette( 1000, 120, as_cmap=True)\n",
    "sns.heatmap(corr_matrix, annot=True, fmt='.2f', linewidths=.8, cmap='coolwarm');"
   ]
  },
  {
   "cell_type": "code",
   "execution_count": 17,
   "id": "ab245b78",
   "metadata": {},
   "outputs": [
    {
     "data": {
      "text/plain": [
       "FLOOD OCCURRENCE    1.000000\n",
       "HUMIDITY (%)        0.879496\n",
       "MONTH               0.134721\n",
       "CAUSE              -0.073964\n",
       "DISTRICT           -0.106279\n",
       "YEAR               -0.206406\n",
       "TEMPERATURE(°C)    -0.792548\n",
       "Name: FLOOD OCCURRENCE, dtype: float64"
      ]
     },
     "execution_count": 17,
     "metadata": {},
     "output_type": "execute_result"
    }
   ],
   "source": [
    "flood.corr()['FLOOD OCCURRENCE'].sort_values(ascending = False)"
   ]
  },
  {
   "cell_type": "code",
   "execution_count": 18,
   "id": "9ab9e545",
   "metadata": {},
   "outputs": [],
   "source": [
    "flood.drop(['YEAR', 'CAUSE'], axis=1, inplace=True)\n",
    "flood.dropna(inplace=True)"
   ]
  },
  {
   "cell_type": "markdown",
   "id": "9ad0652e",
   "metadata": {},
   "source": [
    "### C) Model Development"
   ]
  },
  {
   "cell_type": "code",
   "execution_count": 19,
   "id": "9698b2e4",
   "metadata": {},
   "outputs": [],
   "source": [
    "from sklearn.model_selection import train_test_split\n",
    "X_train, X_test, y_train, y_test = train_test_split(flood.drop('FLOOD OCCURRENCE',axis=1),\n",
    "flood['FLOOD OCCURRENCE'], test_size=0.30,random_state=101)"
   ]
  },
  {
   "cell_type": "code",
   "execution_count": 20,
   "id": "7091e56d",
   "metadata": {},
   "outputs": [
    {
     "data": {
      "text/plain": [
       "LogisticRegression(solver='liblinear')"
      ]
     },
     "execution_count": 20,
     "metadata": {},
     "output_type": "execute_result"
    }
   ],
   "source": [
    "from sklearn.linear_model import LogisticRegression\n",
    "log_reg  = LogisticRegression(solver='liblinear')\n",
    "log_reg .fit(X_train,y_train)"
   ]
  },
  {
   "cell_type": "code",
   "execution_count": 21,
   "id": "f56c084c",
   "metadata": {},
   "outputs": [],
   "source": [
    "predictLR = log_reg.predict(X_test)"
   ]
  },
  {
   "cell_type": "markdown",
   "id": "838a6d9d",
   "metadata": {},
   "source": [
    "### D) Model Evaluation"
   ]
  },
  {
   "cell_type": "code",
   "execution_count": 22,
   "id": "9f391652",
   "metadata": {},
   "outputs": [
    {
     "data": {
      "text/plain": [
       "array([[25,  0],\n",
       "       [ 2, 32]], dtype=int64)"
      ]
     },
     "execution_count": 22,
     "metadata": {},
     "output_type": "execute_result"
    }
   ],
   "source": [
    "from sklearn.metrics import confusion_matrix\n",
    "from sklearn.metrics import accuracy_score, confusion_matrix, classification_report\n",
    "confusionMatrix = confusion_matrix(y_test, predictLR)\n",
    "confusionMatrix"
   ]
  },
  {
   "cell_type": "code",
   "execution_count": 23,
   "id": "b9ef6e83",
   "metadata": {},
   "outputs": [
    {
     "name": "stdout",
     "output_type": "stream",
     "text": [
      "LOGISTIC REGRESSION EVALUATION\n",
      "\n",
      "Accuracy Score: 96.61%\n",
      "\n"
     ]
    },
    {
     "data": {
      "image/png": "[encoded data removed]",
      "text/plain": [
       "<Figure size 432x288 with 2 Axes>"
      ]
     },
     "metadata": {
      "needs_background": "light"
     },
     "output_type": "display_data"
    },
    {
     "name": "stdout",
     "output_type": "stream",
     "text": [
      "Report: \n",
      "\n",
      "                   0          1  accuracy  macro avg  weighted avg\n",
      "precision   0.925926   1.000000  0.966102   0.962963      0.968613\n",
      "recall      1.000000   0.941176  0.966102   0.970588      0.966102\n",
      "f1-score    0.961538   0.969697  0.966102   0.965618      0.966240\n",
      "support    25.000000  34.000000  0.966102  59.000000     59.000000\n"
     ]
    }
   ],
   "source": [
    "print(\"LOGISTIC REGRESSION EVALUATION\\n\")\n",
    "print(f\"Accuracy Score: {accuracy_score(y_test, predictLR) * 100:.2f}%\\n\")\n",
    "group_names = ['True Neg','False Pos','False Neg','True Pos']\n",
    "group_counts = [\"{0:0.0f}\".format(value) for value in confusionMatrix.flatten()]\n",
    "labels = [f\"{v1}\\n{v2}\" for v1, v2 in zip(group_names,group_counts)]\n",
    "labels = np.asarray(labels).reshape(2,2)\n",
    "sns.heatmap(confusion_matrix(y_test, predictLR), annot=labels, fmt ='')\n",
    "plt.show()\n",
    "print(\"Report: \\n\")\n",
    "print(pd.DataFrame(classification_report(y_test, predictLR, output_dict=True)))"
   ]
  },
  {
   "cell_type": "markdown",
   "id": "d8791607",
   "metadata": {},
   "source": [
    "### E) Model Validation"
   ]
  },
  {
   "cell_type": "code",
   "execution_count": 24,
   "id": "5e957982",
   "metadata": {},
   "outputs": [
    {
     "name": "stdout",
     "output_type": "stream",
     "text": [
      "Cross-validation scores:[1.         1.         1.         0.92857143 1.         1.\n",
      " 0.84615385 0.92307692 1.         1.        ]\n"
     ]
    }
   ],
   "source": [
    "from sklearn.model_selection import cross_val_score\n",
    "scores = cross_val_score(log_reg , X_train, y_train, cv = 10,scoring='accuracy')\n",
    "print('Cross-validation scores:{}'.format(scores))"
   ]
  },
  {
   "cell_type": "code",
   "execution_count": 25,
   "id": "85ccb8e0",
   "metadata": {},
   "outputs": [
    {
     "name": "stdout",
     "output_type": "stream",
     "text": [
      "Average cross-validation score: 96.9780\n"
     ]
    }
   ],
   "source": [
    "print('Average cross-validation score: {:.4f}'.format(scores.mean()*100))"
   ]
  },
  {
   "cell_type": "code",
   "execution_count": 26,
   "id": "bd1d513b",
   "metadata": {
    "scrolled": true
   },
   "outputs": [
    {
     "data": {
      "image/png": "[encoded data removed]",
      "text/plain": [
       "<Figure size 432x288 with 1 Axes>"
      ]
     },
     "metadata": {
      "needs_background": "light"
     },
     "output_type": "display_data"
    }
   ],
   "source": [
    "from sklearn import metrics\n",
    "y_pred_proba = log_reg.predict_proba(X_test)[::,1]\n",
    "fpr, tpr, _ = metrics.roc_curve(y_test,  y_pred_proba)\n",
    "auc = metrics.roc_auc_score(y_test, y_pred_proba)\n",
    "\n",
    "plt.plot(fpr,tpr)\n",
    "plt.ylabel('True Positive Rate')\n",
    "plt.xlabel('False Positive Rate')\n",
    "plt.plot(fpr,tpr,label=\"AUC=\"+str(auc))\n",
    "plt.legend(loc=4)\n",
    "plt.show()"
   ]
  },
  {
   "cell_type": "markdown",
   "id": "9ca6ffad",
   "metadata": {},
   "source": [
    "### F) Model Expoting to .joblib"
   ]
  },
  {
   "cell_type": "code",
   "execution_count": 27,
   "id": "947f47fb",
   "metadata": {},
   "outputs": [
    {
     "data": {
      "text/plain": [
       "['model.joblib']"
      ]
     },
     "execution_count": 27,
     "metadata": {},
     "output_type": "execute_result"
    }
   ],
   "source": [
    "import joblib\n",
    "\n",
    "\n",
    "joblib.dump(log_reg, 'model.joblib')"
   ]
  },
  {
   "cell_type": "markdown",
   "id": "15f6d91c",
   "metadata": {},
   "source": [
    "### G) .joblib Model Convertion to Tensorflow Model"
   ]
  },
  {
   "cell_type": "code",
   "execution_count": 28,
   "id": "0e8db10a",
   "metadata": {},
   "outputs": [],
   "source": [
    "log_reg = joblib.load('model.joblib')"
   ]
  },
  {
   "cell_type": "code",
   "execution_count": 29,
   "id": "51821d75",
   "metadata": {},
   "outputs": [],
   "source": [
    "from tensorflow.keras.models import Sequential\n",
    "from tensorflow.keras.layers import Dense\n",
    "tf_model = Sequential()\n",
    "tf_model.add(Dense(1, input_dim=X_train.shape[1], activation='sigmoid'))"
   ]
  },
  {
   "cell_type": "code",
   "execution_count": 30,
   "id": "38f5eaad",
   "metadata": {},
   "outputs": [],
   "source": [
    "tf_model.set_weights([log_reg.coef_.T, log_reg.intercept_])"
   ]
  },
  {
   "cell_type": "code",
   "execution_count": 31,
   "id": "cb7dcaa7",
   "metadata": {},
   "outputs": [],
   "source": [
    "tf_model.compile(loss='binary_crossentropy', optimizer='adam', metrics=['accuracy'])"
   ]
  },
  {
   "cell_type": "markdown",
   "id": "9a368164",
   "metadata": {},
   "source": [
    "### H) Tensorflow Model Evaluation"
   ]
  },
  {
   "cell_type": "code",
   "execution_count": 32,
   "id": "3bba8b31",
   "metadata": {},
   "outputs": [
    {
     "name": "stdout",
     "output_type": "stream",
     "text": [
      "2/2 [==============================] - 0s 5ms/step\n"
     ]
    }
   ],
   "source": [
    "y_pred = tf_model.predict(X_test)"
   ]
  },
  {
   "cell_type": "code",
   "execution_count": 33,
   "id": "85698527",
   "metadata": {},
   "outputs": [
    {
     "name": "stdout",
     "output_type": "stream",
     "text": [
      "2/2 [==============================] - 0s 9ms/step - loss: 0.1337 - accuracy: 0.9661\n"
     ]
    }
   ],
   "source": [
    "score = tf_model.evaluate(X_test, y_test)"
   ]
  },
  {
   "cell_type": "code",
   "execution_count": 34,
   "id": "8af55de7",
   "metadata": {},
   "outputs": [
    {
     "name": "stdout",
     "output_type": "stream",
     "text": [
      "Test loss: 0.13365967571735382\n",
      "Test accuracy: 0.9661017060279846\n"
     ]
    }
   ],
   "source": [
    "print('Test loss:', score[0])\n",
    "print('Test accuracy:', score[1])"
   ]
  },
  {
   "cell_type": "markdown",
   "id": "ee0c9f1f",
   "metadata": {},
   "source": [
    "### I) Tensorflow Model Exporting to .h5"
   ]
  },
  {
   "cell_type": "code",
   "execution_count": 35,
   "id": "4ea43562",
   "metadata": {},
   "outputs": [],
   "source": [
    "tf_model.save('my_model.h5')"
   ]
  },
  {
   "cell_type": "markdown",
   "id": "fb0de0dc",
   "metadata": {},
   "source": [
    "### J) .h5 Model Convertion to Tensorflow Lite Model"
   ]
  },
  {
   "cell_type": "code",
   "execution_count": 36,
   "id": "9bce7e05",
   "metadata": {},
   "outputs": [
    {
     "name": "stderr",
     "output_type": "stream",
     "text": [
      "WARNING:absl:Found untraced functions such as _update_step_xla while saving (showing 1 of 1). These functions will not be directly callable after loading.\n"
     ]
    },
    {
     "name": "stdout",
     "output_type": "stream",
     "text": [
      "INFO:tensorflow:Assets written to: C:\\Users\\sharu\\AppData\\Local\\Temp\\tmpjac07dnb\\assets\n"
     ]
    },
    {
     "name": "stderr",
     "output_type": "stream",
     "text": [
      "INFO:tensorflow:Assets written to: C:\\Users\\sharu\\AppData\\Local\\Temp\\tmpjac07dnb\\assets\n"
     ]
    }
   ],
   "source": [
    "import tensorflow as tf\n",
    "converter = tf.lite.TFLiteConverter.from_keras_model(tf_model)\n",
    "tflite_model = converter.convert()"
   ]
  },
  {
   "cell_type": "markdown",
   "id": "01172d82",
   "metadata": {},
   "source": [
    "### k) Tensorflow Lite Model Exporting to .tflite"
   ]
  },
  {
   "cell_type": "code",
   "execution_count": 37,
   "id": "e85930f3",
   "metadata": {},
   "outputs": [],
   "source": [
    "with open('my_model.tflite', 'wb') as f:\n",
    "    f.write(tflite_model)"
   ]
  }
 ],
 "metadata": {
  "kernelspec": {
   "display_name": "Python 3 (ipykernel)",
   "language": "python",
   "name": "python3"
  },
  "language_info": {
   "codemirror_mode": {
    "name": "ipython",
    "version": 3
   },
   "file_extension": ".py",
   "mimetype": "text/x-python",
   "name": "python",
   "nbconvert_exporter": "python",
   "pygments_lexer": "ipython3",
   "version": "3.9.12"
  }
 },
 "nbformat": 4,
 "nbformat_minor": 5
}
